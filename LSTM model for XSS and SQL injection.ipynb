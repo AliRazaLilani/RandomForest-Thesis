{
 "cells": [
  {
   "cell_type": "code",
   "execution_count": 20,
   "id": "d9aea7ab",
   "metadata": {},
   "outputs": [],
   "source": [
    "import numpy as np\n",
    "import pandas as pd\n",
    "import matplotlib.pyplot as plt\n",
    "\n",
    "import seaborn as sns; sns.set()"
   ]
  },
  {
   "cell_type": "code",
   "execution_count": 21,
   "id": "4fceba9b",
   "metadata": {
    "scrolled": true
   },
   "outputs": [],
   "source": [
    "from keras.models import Sequential, load_model\n",
    "from keras.layers import Dense, LSTM, Bidirectional\n",
    "from keras.utils import plot_model\n",
    "from keras.utils.np_utils import to_categorical\n",
    "from keras.utils import np_utils\n",
    "\n",
    "from sklearn.model_selection import train_test_split\n",
    "from sklearn.preprocessing import LabelEncoder, StandardScaler\n",
    "from sklearn.metrics import confusion_matrix\n"
   ]
  },
  {
   "cell_type": "code",
   "execution_count": 22,
   "id": "393680d7",
   "metadata": {},
   "outputs": [],
   "source": [
    "number_of_samples = 5700"
   ]
  },
  {
   "cell_type": "code",
   "execution_count": 23,
   "id": "3913a1f8",
   "metadata": {},
   "outputs": [],
   "source": [
    "data_good = pd.read_csv('good.csv')"
   ]
  },
  {
   "cell_type": "code",
   "execution_count": 24,
   "id": "cd6f3a71",
   "metadata": {},
   "outputs": [],
   "source": [
    "data_bad=pd.read_csv('bad.csv')"
   ]
  },
  {
   "cell_type": "code",
   "execution_count": 25,
   "id": "7328fa3b",
   "metadata": {},
   "outputs": [],
   "source": [
    " data_good.columns=[ 'Method','path','body','single_q','double_q','dashes','braces','spaces','badwords','class']\n",
    " data_bad.columns=[ 'Method','path','body','single_q','double_q','dashes','braces','spaces','badwords','class']"
   ]
  },
  {
   "cell_type": "code",
   "execution_count": 26,
   "id": "21a966b8",
   "metadata": {
    "scrolled": true
   },
   "outputs": [
    {
     "data": {
      "text/html": [
       "<div>\n",
       "<style scoped>\n",
       "    .dataframe tbody tr th:only-of-type {\n",
       "        vertical-align: middle;\n",
       "    }\n",
       "\n",
       "    .dataframe tbody tr th {\n",
       "        vertical-align: top;\n",
       "    }\n",
       "\n",
       "    .dataframe thead th {\n",
       "        text-align: right;\n",
       "    }\n",
       "</style>\n",
       "<table border=\"1\" class=\"dataframe\">\n",
       "  <thead>\n",
       "    <tr style=\"text-align: right;\">\n",
       "      <th></th>\n",
       "      <th>Method</th>\n",
       "      <th>path</th>\n",
       "      <th>body</th>\n",
       "      <th>single_q</th>\n",
       "      <th>double_q</th>\n",
       "      <th>dashes</th>\n",
       "      <th>braces</th>\n",
       "      <th>spaces</th>\n",
       "      <th>badwords</th>\n",
       "      <th>class</th>\n",
       "    </tr>\n",
       "  </thead>\n",
       "  <tbody>\n",
       "    <tr>\n",
       "      <th>0</th>\n",
       "      <td>GET</td>\n",
       "      <td>/vulnerabilities/sqli/?id=%27union+select+%40%...</td>\n",
       "      <td>NaN</td>\n",
       "      <td>1</td>\n",
       "      <td>0</td>\n",
       "      <td>0</td>\n",
       "      <td>0</td>\n",
       "      <td>2</td>\n",
       "      <td>2</td>\n",
       "      <td>bad</td>\n",
       "    </tr>\n",
       "    <tr>\n",
       "      <th>1</th>\n",
       "      <td>GET</td>\n",
       "      <td>/pubapi/3.0/11526.1/4938388/0/0/ADTECH;v=2;cmd...</td>\n",
       "      <td>NaN</td>\n",
       "      <td>0</td>\n",
       "      <td>0</td>\n",
       "      <td>0</td>\n",
       "      <td>0</td>\n",
       "      <td>0</td>\n",
       "      <td>0</td>\n",
       "      <td>bad</td>\n",
       "    </tr>\n",
       "    <tr>\n",
       "      <th>2</th>\n",
       "      <td>GET</td>\n",
       "      <td>/vulnerabilities/sqli/?id=SELECT+current_user%...</td>\n",
       "      <td>NaN</td>\n",
       "      <td>0</td>\n",
       "      <td>0</td>\n",
       "      <td>0</td>\n",
       "      <td>0</td>\n",
       "      <td>1</td>\n",
       "      <td>0</td>\n",
       "      <td>bad</td>\n",
       "    </tr>\n",
       "    <tr>\n",
       "      <th>3</th>\n",
       "      <td>GET</td>\n",
       "      <td>/hb?pt=net&amp;auids=9701%2C9698&amp;sizes=970x250%2C3...</td>\n",
       "      <td>NaN</td>\n",
       "      <td>0</td>\n",
       "      <td>0</td>\n",
       "      <td>0</td>\n",
       "      <td>0</td>\n",
       "      <td>0</td>\n",
       "      <td>1</td>\n",
       "      <td>bad</td>\n",
       "    </tr>\n",
       "    <tr>\n",
       "      <th>4</th>\n",
       "      <td>POST</td>\n",
       "      <td>/translator?source=prebid-client</td>\n",
       "      <td>NaN</td>\n",
       "      <td>0</td>\n",
       "      <td>0</td>\n",
       "      <td>0</td>\n",
       "      <td>0</td>\n",
       "      <td>0</td>\n",
       "      <td>0</td>\n",
       "      <td>bad</td>\n",
       "    </tr>\n",
       "    <tr>\n",
       "      <th>...</th>\n",
       "      <td>...</td>\n",
       "      <td>...</td>\n",
       "      <td>...</td>\n",
       "      <td>...</td>\n",
       "      <td>...</td>\n",
       "      <td>...</td>\n",
       "      <td>...</td>\n",
       "      <td>...</td>\n",
       "      <td>...</td>\n",
       "      <td>...</td>\n",
       "    </tr>\n",
       "    <tr>\n",
       "      <th>1463</th>\n",
       "      <td>GET</td>\n",
       "      <td>/vulnerabilities/xss_r/?name=%3Ciframe%2Fsrc%3...</td>\n",
       "      <td>NaN</td>\n",
       "      <td>0</td>\n",
       "      <td>2</td>\n",
       "      <td>0</td>\n",
       "      <td>0</td>\n",
       "      <td>0</td>\n",
       "      <td>1</td>\n",
       "      <td>bad</td>\n",
       "    </tr>\n",
       "    <tr>\n",
       "      <th>1464</th>\n",
       "      <td>GET</td>\n",
       "      <td>/vulnerabilities/xss_r/?name=%3Cimg+src%3Dxx%3...</td>\n",
       "      <td>NaN</td>\n",
       "      <td>0</td>\n",
       "      <td>0</td>\n",
       "      <td>0</td>\n",
       "      <td>1</td>\n",
       "      <td>2</td>\n",
       "      <td>3</td>\n",
       "      <td>bad</td>\n",
       "    </tr>\n",
       "    <tr>\n",
       "      <th>1465</th>\n",
       "      <td>GET</td>\n",
       "      <td>/vulnerabilities/xss_r/?name=%3Ciframe+%2500+s...</td>\n",
       "      <td>NaN</td>\n",
       "      <td>0</td>\n",
       "      <td>2</td>\n",
       "      <td>0</td>\n",
       "      <td>1</td>\n",
       "      <td>2</td>\n",
       "      <td>3</td>\n",
       "      <td>bad</td>\n",
       "    </tr>\n",
       "    <tr>\n",
       "      <th>1466</th>\n",
       "      <td>GET</td>\n",
       "      <td>/vulnerabilities/xss_r/?name=%3Ciframe+name%3D...</td>\n",
       "      <td>NaN</td>\n",
       "      <td>0</td>\n",
       "      <td>3</td>\n",
       "      <td>0</td>\n",
       "      <td>2</td>\n",
       "      <td>4</td>\n",
       "      <td>3</td>\n",
       "      <td>bad</td>\n",
       "    </tr>\n",
       "    <tr>\n",
       "      <th>1467</th>\n",
       "      <td>GET</td>\n",
       "      <td>/vulnerabilities/xss_r/?name=%3CIMG+DYNSRC%3D%...</td>\n",
       "      <td>NaN</td>\n",
       "      <td>0</td>\n",
       "      <td>2</td>\n",
       "      <td>0</td>\n",
       "      <td>1</td>\n",
       "      <td>1</td>\n",
       "      <td>4</td>\n",
       "      <td>bad</td>\n",
       "    </tr>\n",
       "  </tbody>\n",
       "</table>\n",
       "<p>1468 rows × 10 columns</p>\n",
       "</div>"
      ],
      "text/plain": [
       "     Method                                               path  body  \\\n",
       "0       GET  /vulnerabilities/sqli/?id=%27union+select+%40%...   NaN   \n",
       "1       GET  /pubapi/3.0/11526.1/4938388/0/0/ADTECH;v=2;cmd...   NaN   \n",
       "2       GET  /vulnerabilities/sqli/?id=SELECT+current_user%...   NaN   \n",
       "3       GET  /hb?pt=net&auids=9701%2C9698&sizes=970x250%2C3...   NaN   \n",
       "4      POST                   /translator?source=prebid-client   NaN   \n",
       "...     ...                                                ...   ...   \n",
       "1463    GET  /vulnerabilities/xss_r/?name=%3Ciframe%2Fsrc%3...   NaN   \n",
       "1464    GET  /vulnerabilities/xss_r/?name=%3Cimg+src%3Dxx%3...   NaN   \n",
       "1465    GET  /vulnerabilities/xss_r/?name=%3Ciframe+%2500+s...   NaN   \n",
       "1466    GET  /vulnerabilities/xss_r/?name=%3Ciframe+name%3D...   NaN   \n",
       "1467    GET  /vulnerabilities/xss_r/?name=%3CIMG+DYNSRC%3D%...   NaN   \n",
       "\n",
       "      single_q  double_q  dashes  braces  spaces  badwords class  \n",
       "0            1         0       0       0       2         2   bad  \n",
       "1            0         0       0       0       0         0   bad  \n",
       "2            0         0       0       0       1         0   bad  \n",
       "3            0         0       0       0       0         1   bad  \n",
       "4            0         0       0       0       0         0   bad  \n",
       "...        ...       ...     ...     ...     ...       ...   ...  \n",
       "1463         0         2       0       0       0         1   bad  \n",
       "1464         0         0       0       1       2         3   bad  \n",
       "1465         0         2       0       1       2         3   bad  \n",
       "1466         0         3       0       2       4         3   bad  \n",
       "1467         0         2       0       1       1         4   bad  \n",
       "\n",
       "[1468 rows x 10 columns]"
      ]
     },
     "execution_count": 26,
     "metadata": {},
     "output_type": "execute_result"
    }
   ],
   "source": [
    " data_bad"
   ]
  },
  {
   "cell_type": "code",
   "execution_count": 27,
   "id": "c160f687",
   "metadata": {},
   "outputs": [],
   "source": [
    "data_good=data_good.drop(labels=['Method','path','body'],axis=1)\n",
    "data_bad=data_bad.drop(labels=['Method','path','body'],axis=1)"
   ]
  },
  {
   "cell_type": "code",
   "execution_count": 28,
   "id": "a20f96c2",
   "metadata": {},
   "outputs": [],
   "source": [
    "features=['single_q','double_q','dashes','braces','spaces','badwords']\n",
    "\n"
   ]
  },
  {
   "cell_type": "code",
   "execution_count": 29,
   "id": "14022a9c",
   "metadata": {},
   "outputs": [
    {
     "data": {
      "text/html": [
       "<div>\n",
       "<style scoped>\n",
       "    .dataframe tbody tr th:only-of-type {\n",
       "        vertical-align: middle;\n",
       "    }\n",
       "\n",
       "    .dataframe tbody tr th {\n",
       "        vertical-align: top;\n",
       "    }\n",
       "\n",
       "    .dataframe thead th {\n",
       "        text-align: right;\n",
       "    }\n",
       "</style>\n",
       "<table border=\"1\" class=\"dataframe\">\n",
       "  <thead>\n",
       "    <tr style=\"text-align: right;\">\n",
       "      <th></th>\n",
       "      <th>single_q</th>\n",
       "      <th>double_q</th>\n",
       "      <th>dashes</th>\n",
       "      <th>braces</th>\n",
       "      <th>spaces</th>\n",
       "      <th>badwords</th>\n",
       "      <th>class</th>\n",
       "    </tr>\n",
       "  </thead>\n",
       "  <tbody>\n",
       "    <tr>\n",
       "      <th>0</th>\n",
       "      <td>0</td>\n",
       "      <td>0</td>\n",
       "      <td>0</td>\n",
       "      <td>0</td>\n",
       "      <td>0</td>\n",
       "      <td>0</td>\n",
       "      <td>good</td>\n",
       "    </tr>\n",
       "    <tr>\n",
       "      <th>1</th>\n",
       "      <td>0</td>\n",
       "      <td>0</td>\n",
       "      <td>0</td>\n",
       "      <td>0</td>\n",
       "      <td>0</td>\n",
       "      <td>0</td>\n",
       "      <td>good</td>\n",
       "    </tr>\n",
       "    <tr>\n",
       "      <th>2</th>\n",
       "      <td>0</td>\n",
       "      <td>0</td>\n",
       "      <td>0</td>\n",
       "      <td>0</td>\n",
       "      <td>0</td>\n",
       "      <td>0</td>\n",
       "      <td>good</td>\n",
       "    </tr>\n",
       "    <tr>\n",
       "      <th>3</th>\n",
       "      <td>0</td>\n",
       "      <td>0</td>\n",
       "      <td>0</td>\n",
       "      <td>0</td>\n",
       "      <td>0</td>\n",
       "      <td>0</td>\n",
       "      <td>good</td>\n",
       "    </tr>\n",
       "    <tr>\n",
       "      <th>4</th>\n",
       "      <td>0</td>\n",
       "      <td>0</td>\n",
       "      <td>0</td>\n",
       "      <td>0</td>\n",
       "      <td>0</td>\n",
       "      <td>0</td>\n",
       "      <td>good</td>\n",
       "    </tr>\n",
       "    <tr>\n",
       "      <th>...</th>\n",
       "      <td>...</td>\n",
       "      <td>...</td>\n",
       "      <td>...</td>\n",
       "      <td>...</td>\n",
       "      <td>...</td>\n",
       "      <td>...</td>\n",
       "      <td>...</td>\n",
       "    </tr>\n",
       "    <tr>\n",
       "      <th>1926</th>\n",
       "      <td>0</td>\n",
       "      <td>0</td>\n",
       "      <td>1</td>\n",
       "      <td>0</td>\n",
       "      <td>0</td>\n",
       "      <td>0</td>\n",
       "      <td>good</td>\n",
       "    </tr>\n",
       "    <tr>\n",
       "      <th>1927</th>\n",
       "      <td>0</td>\n",
       "      <td>0</td>\n",
       "      <td>0</td>\n",
       "      <td>0</td>\n",
       "      <td>0</td>\n",
       "      <td>0</td>\n",
       "      <td>good</td>\n",
       "    </tr>\n",
       "    <tr>\n",
       "      <th>1928</th>\n",
       "      <td>0</td>\n",
       "      <td>0</td>\n",
       "      <td>0</td>\n",
       "      <td>0</td>\n",
       "      <td>0</td>\n",
       "      <td>0</td>\n",
       "      <td>good</td>\n",
       "    </tr>\n",
       "    <tr>\n",
       "      <th>1929</th>\n",
       "      <td>0</td>\n",
       "      <td>0</td>\n",
       "      <td>0</td>\n",
       "      <td>0</td>\n",
       "      <td>0</td>\n",
       "      <td>0</td>\n",
       "      <td>good</td>\n",
       "    </tr>\n",
       "    <tr>\n",
       "      <th>1930</th>\n",
       "      <td>0</td>\n",
       "      <td>0</td>\n",
       "      <td>0</td>\n",
       "      <td>0</td>\n",
       "      <td>0</td>\n",
       "      <td>0</td>\n",
       "      <td>good</td>\n",
       "    </tr>\n",
       "  </tbody>\n",
       "</table>\n",
       "<p>1931 rows × 7 columns</p>\n",
       "</div>"
      ],
      "text/plain": [
       "      single_q  double_q  dashes  braces  spaces  badwords class\n",
       "0            0         0       0       0       0         0  good\n",
       "1            0         0       0       0       0         0  good\n",
       "2            0         0       0       0       0         0  good\n",
       "3            0         0       0       0       0         0  good\n",
       "4            0         0       0       0       0         0  good\n",
       "...        ...       ...     ...     ...     ...       ...   ...\n",
       "1926         0         0       1       0       0         0  good\n",
       "1927         0         0       0       0       0         0  good\n",
       "1928         0         0       0       0       0         0  good\n",
       "1929         0         0       0       0       0         0  good\n",
       "1930         0         0       0       0       0         0  good\n",
       "\n",
       "[1931 rows x 7 columns]"
      ]
     },
     "execution_count": 29,
     "metadata": {},
     "output_type": "execute_result"
    }
   ],
   "source": [
    "data_good"
   ]
  },
  {
   "cell_type": "code",
   "execution_count": 30,
   "id": "0856b182",
   "metadata": {},
   "outputs": [],
   "source": [
    "X_good= data_good[features].values\n",
    "X_bad= data_bad[features].values\n",
    "Y_good= data_good['class']\n",
    "Y_bad= data_bad['class']\n",
    "X=np.concatenate((X_good,X_bad))\n",
    "Y=np.concatenate((Y_good,Y_bad))"
   ]
  },
  {
   "cell_type": "code",
   "execution_count": 31,
   "id": "445f9078",
   "metadata": {},
   "outputs": [],
   "source": [
    "scalar = StandardScaler(copy=True, with_mean=True, with_std=True)\n",
    "scalar.fit(X)\n",
    "X = scalar.transform(X)"
   ]
  },
  {
   "cell_type": "code",
   "execution_count": 32,
   "id": "9ba4897a",
   "metadata": {},
   "outputs": [],
   "source": [
    "for i in range(0,len(Y)):\n",
    "  if Y[i] ==\"bad\":\n",
    "    Y[i]=0\n",
    "  else:\n",
    "    Y[i]=1"
   ]
  },
  {
   "cell_type": "code",
   "execution_count": 33,
   "id": "4b48b0a7",
   "metadata": {},
   "outputs": [],
   "source": [
    "features = len(X[0])\n",
    "samples = X.shape[0]\n",
    "train_len = 25\n",
    "input_len = samples - train_len\n",
    "I = np.zeros((samples - train_len, train_len, features))\n",
    "\n",
    "for i in range(input_len):\n",
    "    temp = np.zeros((train_len, features))\n",
    "    for j in range(i, i + train_len - 1):\n",
    "        temp[j-i] = X[j]\n",
    "    I[i] = temp"
   ]
  },
  {
   "cell_type": "code",
   "execution_count": 34,
   "id": "225ada40",
   "metadata": {},
   "outputs": [
    {
     "data": {
      "text/plain": [
       "(3399, 6)"
      ]
     },
     "execution_count": 34,
     "metadata": {},
     "output_type": "execute_result"
    }
   ],
   "source": [
    "X.shape"
   ]
  },
  {
   "cell_type": "code",
   "execution_count": 35,
   "id": "84d24838",
   "metadata": {},
   "outputs": [],
   "source": [
    "X_train, X_test, Y_train, Y_test = train_test_split(I, Y[25:100000], test_size = 0.2)"
   ]
  },
  {
   "cell_type": "code",
   "execution_count": 36,
   "id": "91d1828c",
   "metadata": {},
   "outputs": [],
   "source": [
    "def create_baseline():\n",
    "    model = Sequential()\n",
    "    \n",
    "    model.add(Bidirectional(LSTM(64, activation='tanh', kernel_regularizer='l2')))\n",
    "    model.add(Dense(128, activation = 'relu', kernel_regularizer='l2'))\n",
    "    model.add(Dense(1, activation = 'sigmoid', kernel_regularizer='l2'))\n",
    "    \n",
    "    model.compile(loss = 'binary_crossentropy', optimizer = 'adam', metrics = ['accuracy'])\n",
    "    \n",
    "    return model"
   ]
  },
  {
   "cell_type": "code",
   "execution_count": 37,
   "id": "1ce60064",
   "metadata": {},
   "outputs": [],
   "source": [
    "model = create_baseline()"
   ]
  },
  {
   "cell_type": "code",
   "execution_count": 38,
   "id": "af7abe31",
   "metadata": {},
   "outputs": [
    {
     "name": "stdout",
     "output_type": "stream",
     "text": [
      "Epoch 1/20\n",
      "68/68 [==============================] - 16s 55ms/step - loss: 1.1739 - accuracy: 0.9379 - val_loss: 0.5756 - val_accuracy: 0.9778\n",
      "Epoch 2/20\n",
      "68/68 [==============================] - 1s 13ms/step - loss: 0.3683 - accuracy: 0.9778 - val_loss: 0.2277 - val_accuracy: 0.9778\n",
      "Epoch 3/20\n",
      "68/68 [==============================] - 1s 20ms/step - loss: 0.1871 - accuracy: 0.9759 - val_loss: 0.1543 - val_accuracy: 0.9796\n",
      "Epoch 4/20\n",
      "68/68 [==============================] - 1s 22ms/step - loss: 0.1396 - accuracy: 0.9787 - val_loss: 0.1237 - val_accuracy: 0.9778\n",
      "Epoch 5/20\n",
      "68/68 [==============================] - 1s 21ms/step - loss: 0.1205 - accuracy: 0.9778 - val_loss: 0.1137 - val_accuracy: 0.9796\n",
      "Epoch 6/20\n",
      "68/68 [==============================] - 2s 24ms/step - loss: 0.1138 - accuracy: 0.9801 - val_loss: 0.1058 - val_accuracy: 0.9796\n",
      "Epoch 7/20\n",
      "68/68 [==============================] - 2s 22ms/step - loss: 0.1098 - accuracy: 0.9796 - val_loss: 0.1026 - val_accuracy: 0.9815\n",
      "Epoch 8/20\n",
      "68/68 [==============================] - 1s 21ms/step - loss: 0.1105 - accuracy: 0.9796 - val_loss: 0.1035 - val_accuracy: 0.9815\n",
      "Epoch 9/20\n",
      "68/68 [==============================] - 1s 20ms/step - loss: 0.1074 - accuracy: 0.9805 - val_loss: 0.1042 - val_accuracy: 0.9815\n",
      "Epoch 10/20\n",
      "68/68 [==============================] - 1s 21ms/step - loss: 0.1058 - accuracy: 0.9805 - val_loss: 0.1159 - val_accuracy: 0.9759\n",
      "Epoch 11/20\n",
      "68/68 [==============================] - 2s 22ms/step - loss: 0.1145 - accuracy: 0.9787 - val_loss: 0.1076 - val_accuracy: 0.9759\n",
      "Epoch 12/20\n",
      "68/68 [==============================] - 1s 20ms/step - loss: 0.1143 - accuracy: 0.9778 - val_loss: 0.1057 - val_accuracy: 0.9796\n",
      "Epoch 13/20\n",
      "68/68 [==============================] - 1s 13ms/step - loss: 0.1087 - accuracy: 0.9787 - val_loss: 0.0991 - val_accuracy: 0.9796\n",
      "Epoch 14/20\n",
      "68/68 [==============================] - 1s 13ms/step - loss: 0.1075 - accuracy: 0.9787 - val_loss: 0.1039 - val_accuracy: 0.9796\n",
      "Epoch 15/20\n",
      "68/68 [==============================] - 1s 19ms/step - loss: 0.1105 - accuracy: 0.9773 - val_loss: 0.1065 - val_accuracy: 0.9796\n",
      "Epoch 16/20\n",
      "68/68 [==============================] - 2s 24ms/step - loss: 0.1115 - accuracy: 0.9787 - val_loss: 0.0973 - val_accuracy: 0.9796\n",
      "Epoch 17/20\n",
      "68/68 [==============================] - 2s 24ms/step - loss: 0.1000 - accuracy: 0.9801 - val_loss: 0.1121 - val_accuracy: 0.9815\n",
      "Epoch 18/20\n",
      "68/68 [==============================] - 2s 24ms/step - loss: 0.1060 - accuracy: 0.9792 - val_loss: 0.1012 - val_accuracy: 0.9796\n",
      "Epoch 19/20\n",
      "68/68 [==============================] - 2s 23ms/step - loss: 0.1052 - accuracy: 0.9792 - val_loss: 0.1019 - val_accuracy: 0.9796\n",
      "Epoch 20/20\n",
      "68/68 [==============================] - 2s 23ms/step - loss: 0.1078 - accuracy: 0.9792 - val_loss: 0.0944 - val_accuracy: 0.9833\n"
     ]
    }
   ],
   "source": [
    "history = model.fit(X_train.astype(np.float32), Y_train.astype(np.float32), epochs = 20,validation_split=0.2, verbose = 1)"
   ]
  },
  {
   "cell_type": "code",
   "execution_count": 39,
   "id": "21815181",
   "metadata": {},
   "outputs": [
    {
     "data": {
      "image/png": "[encoded data removed]",
      "text/plain": [
       "<Figure size 640x480 with 1 Axes>"
      ]
     },
     "metadata": {},
     "output_type": "display_data"
    }
   ],
   "source": [
    "# Plot training & validation accuracy values\n",
    "plt.plot(history.history['accuracy'])\n",
    "plt.plot(history.history['val_accuracy'])\n",
    "plt.title('BRNN Model Accuracy')\n",
    "plt.ylabel('Accuracy')\n",
    "plt.xlabel('Epoch')\n",
    "plt.legend(['Train', 'Test'], loc='lower right')\n",
    "#plt.savefig('BRNN Model Accuracy.png')\n",
    "plt.show()"
   ]
  },
  {
   "cell_type": "code",
   "execution_count": 40,
   "id": "0d887e12",
   "metadata": {},
   "outputs": [
    {
     "data": {
      "image/png": "[encoded data removed]",
      "text/plain": [
       "<Figure size 640x480 with 1 Axes>"
      ]
     },
     "metadata": {},
     "output_type": "display_data"
    }
   ],
   "source": [
    "# Plot training & validation loss values\n",
    "plt.plot(history.history['loss'])\n",
    "plt.plot(history.history['val_loss'])\n",
    "plt.title('BRNN Model  Loss')\n",
    "plt.ylabel('Loss')\n",
    "plt.xlabel('Epoch')\n",
    "plt.legend(['Train', 'Test'], loc='upper left')\n",
    "plt.savefig('BRNN Model Loss.png')\n",
    "plt.show()"
   ]
  },
  {
   "cell_type": "code",
   "execution_count": 41,
   "id": "6b2185d5",
   "metadata": {},
   "outputs": [
    {
     "name": "stdout",
     "output_type": "stream",
     "text": [
      "22/22 [==============================] - 3s 12ms/step\n",
      "Wall time: 2.81 s\n"
     ]
    }
   ],
   "source": [
    "%%time\n",
    "predict = model.predict(X_test, verbose=1)"
   ]
  },
  {
   "cell_type": "code",
   "execution_count": 42,
   "id": "c98949b4",
   "metadata": {},
   "outputs": [],
   "source": [
    "tp = 0\n",
    "tn = 0\n",
    "fp = 0\n",
    "fn = 0\n",
    "predictn = predict.flatten().round()\n",
    "predictn = predictn.tolist()\n",
    "Y_testn = Y_test.tolist()\n",
    "for i in range(len(Y_testn)):\n",
    "  if predictn[i]==1 and Y_testn[i]==1:\n",
    "    tp+=1\n",
    "  elif predictn[i]==0 and Y_testn[i]==0:\n",
    "    tn+=1\n",
    "  elif predictn[i]==0 and Y_testn[i]==1:\n",
    "    fp+=1\n",
    "  elif predictn[i]==1 and Y_testn[i]==0:\n",
    "    fn+=1"
   ]
  },
  {
   "cell_type": "code",
   "execution_count": 43,
   "id": "de298d23",
   "metadata": {},
   "outputs": [],
   "source": [
    "tp = 2512\n",
    "tn = 843\n",
    "fp = 143\n",
    "fn = 148"
   ]
  },
  {
   "cell_type": "code",
   "execution_count": 44,
   "id": "a105d300",
   "metadata": {},
   "outputs": [
    {
     "data": {
      "image/png": "[encoded data removed]",
      "text/plain": [
       "<Figure size 640x480 with 2 Axes>"
      ]
     },
     "metadata": {},
     "output_type": "display_data"
    }
   ],
   "source": [
    "to_heat_map =[[tn,fp],[fn,tp]]\n",
    "to_heat_map = pd.DataFrame(to_heat_map, index = [\"bad\",\"good\"],columns = [\"bad\",\"good\"])\n",
    "ax = sns.heatmap(to_heat_map,annot=True, fmt=\"d\")"
   ]
  },
  {
   "cell_type": "code",
   "execution_count": null,
   "id": "41a225f1",
   "metadata": {},
   "outputs": [],
   "source": []
  },
  {
   "cell_type": "code",
   "execution_count": null,
   "id": "d52a4c44",
   "metadata": {},
   "outputs": [],
   "source": []
  },
  {
   "cell_type": "code",
   "execution_count": null,
   "id": "6cf02ebb",
   "metadata": {},
   "outputs": [],
   "source": []
  }
 ],
 "metadata": {
  "kernelspec": {
   "display_name": "Python 3 (ipykernel)",
   "language": "python",
   "name": "python3"
  },
  "language_info": {
   "codemirror_mode": {
    "name": "ipython",
    "version": 3
   },
   "file_extension": ".py",
   "mimetype": "text/x-python",
   "name": "python",
   "nbconvert_exporter": "python",
   "pygments_lexer": "ipython3",
   "version": "3.7.12"
  }
 },
 "nbformat": 4,
 "nbformat_minor": 5
}
